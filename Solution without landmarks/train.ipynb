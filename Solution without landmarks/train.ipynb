{
 "cells": [
  {
   "cell_type": "code",
   "execution_count": 1,
   "metadata": {},
   "outputs": [
    {
     "name": "stderr",
     "output_type": "stream",
     "text": [
      "Using TensorFlow backend.\n"
     ]
    }
   ],
   "source": [
    "import numpy as np\n",
    "import pandas as pd\n",
    "import matplotlib.pyplot as plt\n",
    "from skimage.io import imread, imshow\n",
    "import os\n",
    "from tqdm import tqdm_notebook\n",
    "from skimage.transform import resize\n",
    "from keras.preprocessing.image import load_img"
   ]
  },
  {
   "cell_type": "code",
   "execution_count": 2,
   "metadata": {},
   "outputs": [],
   "source": [
    "path = '/media/danil/Data/Datasets/CelebA/Img'\n",
    "path_to_img = '/media/danil/Data/Datasets/CelebA/Img/img_align_celeba'\n",
    "BATCH_SIZE = 32"
   ]
  },
  {
   "cell_type": "code",
   "execution_count": 3,
   "metadata": {},
   "outputs": [
    {
     "data": {
      "text/html": [
       "<div>\n",
       "<style scoped>\n",
       "    .dataframe tbody tr th:only-of-type {\n",
       "        vertical-align: middle;\n",
       "    }\n",
       "\n",
       "    .dataframe tbody tr th {\n",
       "        vertical-align: top;\n",
       "    }\n",
       "\n",
       "    .dataframe thead th {\n",
       "        text-align: right;\n",
       "    }\n",
       "</style>\n",
       "<table border=\"1\" class=\"dataframe\">\n",
       "  <thead>\n",
       "    <tr style=\"text-align: right;\">\n",
       "      <th></th>\n",
       "      <th>ImageName</th>\n",
       "      <th>5_o_Clock_Shadow</th>\n",
       "      <th>Arched_Eyebrows</th>\n",
       "      <th>Attractive</th>\n",
       "      <th>Bags_Under_Eyes</th>\n",
       "      <th>Bald</th>\n",
       "      <th>Bangs</th>\n",
       "      <th>Big_Lips</th>\n",
       "      <th>Big_Nose</th>\n",
       "      <th>Black_Hair</th>\n",
       "      <th>...</th>\n",
       "      <th>Sideburns</th>\n",
       "      <th>Smiling</th>\n",
       "      <th>Straight_Hair</th>\n",
       "      <th>Wavy_Hair</th>\n",
       "      <th>Wearing_Earrings</th>\n",
       "      <th>Wearing_Hat</th>\n",
       "      <th>Wearing_Lipstick</th>\n",
       "      <th>Wearing_Necklace</th>\n",
       "      <th>Wearing_Necktie</th>\n",
       "      <th>Young</th>\n",
       "    </tr>\n",
       "  </thead>\n",
       "  <tbody>\n",
       "    <tr>\n",
       "      <th>0</th>\n",
       "      <td>000001.jpg</td>\n",
       "      <td>-1</td>\n",
       "      <td>1</td>\n",
       "      <td>1</td>\n",
       "      <td>-1</td>\n",
       "      <td>-1</td>\n",
       "      <td>-1</td>\n",
       "      <td>-1</td>\n",
       "      <td>-1</td>\n",
       "      <td>-1</td>\n",
       "      <td>...</td>\n",
       "      <td>-1</td>\n",
       "      <td>1</td>\n",
       "      <td>1</td>\n",
       "      <td>-1</td>\n",
       "      <td>1</td>\n",
       "      <td>-1</td>\n",
       "      <td>1</td>\n",
       "      <td>-1</td>\n",
       "      <td>-1</td>\n",
       "      <td>1</td>\n",
       "    </tr>\n",
       "    <tr>\n",
       "      <th>1</th>\n",
       "      <td>000002.jpg</td>\n",
       "      <td>-1</td>\n",
       "      <td>-1</td>\n",
       "      <td>-1</td>\n",
       "      <td>1</td>\n",
       "      <td>-1</td>\n",
       "      <td>-1</td>\n",
       "      <td>-1</td>\n",
       "      <td>1</td>\n",
       "      <td>-1</td>\n",
       "      <td>...</td>\n",
       "      <td>-1</td>\n",
       "      <td>1</td>\n",
       "      <td>-1</td>\n",
       "      <td>-1</td>\n",
       "      <td>-1</td>\n",
       "      <td>-1</td>\n",
       "      <td>-1</td>\n",
       "      <td>-1</td>\n",
       "      <td>-1</td>\n",
       "      <td>1</td>\n",
       "    </tr>\n",
       "    <tr>\n",
       "      <th>2</th>\n",
       "      <td>000003.jpg</td>\n",
       "      <td>-1</td>\n",
       "      <td>-1</td>\n",
       "      <td>-1</td>\n",
       "      <td>-1</td>\n",
       "      <td>-1</td>\n",
       "      <td>-1</td>\n",
       "      <td>1</td>\n",
       "      <td>-1</td>\n",
       "      <td>-1</td>\n",
       "      <td>...</td>\n",
       "      <td>-1</td>\n",
       "      <td>0</td>\n",
       "      <td>-1</td>\n",
       "      <td>1</td>\n",
       "      <td>-1</td>\n",
       "      <td>-1</td>\n",
       "      <td>-1</td>\n",
       "      <td>-1</td>\n",
       "      <td>-1</td>\n",
       "      <td>1</td>\n",
       "    </tr>\n",
       "    <tr>\n",
       "      <th>3</th>\n",
       "      <td>000004.jpg</td>\n",
       "      <td>-1</td>\n",
       "      <td>-1</td>\n",
       "      <td>1</td>\n",
       "      <td>-1</td>\n",
       "      <td>-1</td>\n",
       "      <td>-1</td>\n",
       "      <td>-1</td>\n",
       "      <td>-1</td>\n",
       "      <td>-1</td>\n",
       "      <td>...</td>\n",
       "      <td>-1</td>\n",
       "      <td>0</td>\n",
       "      <td>1</td>\n",
       "      <td>-1</td>\n",
       "      <td>1</td>\n",
       "      <td>-1</td>\n",
       "      <td>1</td>\n",
       "      <td>1</td>\n",
       "      <td>-1</td>\n",
       "      <td>1</td>\n",
       "    </tr>\n",
       "    <tr>\n",
       "      <th>4</th>\n",
       "      <td>000005.jpg</td>\n",
       "      <td>-1</td>\n",
       "      <td>1</td>\n",
       "      <td>1</td>\n",
       "      <td>-1</td>\n",
       "      <td>-1</td>\n",
       "      <td>-1</td>\n",
       "      <td>1</td>\n",
       "      <td>-1</td>\n",
       "      <td>-1</td>\n",
       "      <td>...</td>\n",
       "      <td>-1</td>\n",
       "      <td>0</td>\n",
       "      <td>-1</td>\n",
       "      <td>-1</td>\n",
       "      <td>-1</td>\n",
       "      <td>-1</td>\n",
       "      <td>1</td>\n",
       "      <td>-1</td>\n",
       "      <td>-1</td>\n",
       "      <td>1</td>\n",
       "    </tr>\n",
       "  </tbody>\n",
       "</table>\n",
       "<p>5 rows × 41 columns</p>\n",
       "</div>"
      ],
      "text/plain": [
       "    ImageName  5_o_Clock_Shadow  Arched_Eyebrows  Attractive  Bags_Under_Eyes  \\\n",
       "0  000001.jpg                -1                1           1               -1   \n",
       "1  000002.jpg                -1               -1          -1                1   \n",
       "2  000003.jpg                -1               -1          -1               -1   \n",
       "3  000004.jpg                -1               -1           1               -1   \n",
       "4  000005.jpg                -1                1           1               -1   \n",
       "\n",
       "   Bald  Bangs  Big_Lips  Big_Nose  Black_Hair  ...    Sideburns  Smiling  \\\n",
       "0    -1     -1        -1        -1          -1  ...           -1        1   \n",
       "1    -1     -1        -1         1          -1  ...           -1        1   \n",
       "2    -1     -1         1        -1          -1  ...           -1        0   \n",
       "3    -1     -1        -1        -1          -1  ...           -1        0   \n",
       "4    -1     -1         1        -1          -1  ...           -1        0   \n",
       "\n",
       "   Straight_Hair  Wavy_Hair  Wearing_Earrings  Wearing_Hat  Wearing_Lipstick  \\\n",
       "0              1         -1                 1           -1                 1   \n",
       "1             -1         -1                -1           -1                -1   \n",
       "2             -1          1                -1           -1                -1   \n",
       "3              1         -1                 1           -1                 1   \n",
       "4             -1         -1                -1           -1                 1   \n",
       "\n",
       "   Wearing_Necklace  Wearing_Necktie  Young  \n",
       "0                -1               -1      1  \n",
       "1                -1               -1      1  \n",
       "2                -1               -1      1  \n",
       "3                 1               -1      1  \n",
       "4                -1               -1      1  \n",
       "\n",
       "[5 rows x 41 columns]"
      ]
     },
     "execution_count": 3,
     "metadata": {},
     "output_type": "execute_result"
    }
   ],
   "source": [
    "training = pd.read_csv(os.path.join(path,'list_attr_celeba.txt'), delimiter=\" \")\n",
    "training.Smiling = training.Smiling.map({1:1, -1:0})\n",
    "training.head()"
   ]
  },
  {
   "cell_type": "code",
   "execution_count": 4,
   "metadata": {},
   "outputs": [
    {
     "data": {
      "text/html": [
       "<div>\n",
       "<style scoped>\n",
       "    .dataframe tbody tr th:only-of-type {\n",
       "        vertical-align: middle;\n",
       "    }\n",
       "\n",
       "    .dataframe tbody tr th {\n",
       "        vertical-align: top;\n",
       "    }\n",
       "\n",
       "    .dataframe thead th {\n",
       "        text-align: right;\n",
       "    }\n",
       "</style>\n",
       "<table border=\"1\" class=\"dataframe\">\n",
       "  <thead>\n",
       "    <tr style=\"text-align: right;\">\n",
       "      <th></th>\n",
       "      <th>ImageName</th>\n",
       "      <th>open_mouth</th>\n",
       "    </tr>\n",
       "  </thead>\n",
       "  <tbody>\n",
       "    <tr>\n",
       "      <th>0</th>\n",
       "      <td>055997.jpg</td>\n",
       "      <td>1</td>\n",
       "    </tr>\n",
       "    <tr>\n",
       "      <th>1</th>\n",
       "      <td>131827.jpg</td>\n",
       "      <td>1</td>\n",
       "    </tr>\n",
       "    <tr>\n",
       "      <th>2</th>\n",
       "      <td>052069.jpg</td>\n",
       "      <td>1</td>\n",
       "    </tr>\n",
       "    <tr>\n",
       "      <th>3</th>\n",
       "      <td>110305.jpg</td>\n",
       "      <td>1</td>\n",
       "    </tr>\n",
       "    <tr>\n",
       "      <th>4</th>\n",
       "      <td>098890.jpg</td>\n",
       "      <td>1</td>\n",
       "    </tr>\n",
       "  </tbody>\n",
       "</table>\n",
       "</div>"
      ],
      "text/plain": [
       "    ImageName  open_mouth\n",
       "0  055997.jpg           1\n",
       "1  131827.jpg           1\n",
       "2  052069.jpg           1\n",
       "3  110305.jpg           1\n",
       "4  098890.jpg           1"
      ]
     },
     "execution_count": 4,
     "metadata": {},
     "output_type": "execute_result"
    }
   ],
   "source": [
    "open_mouth_df = pd.read_csv(os.path.join(path,'CelebA.csv'))\n",
    "open_mouth_df.columns = ['ImageName', 'open_mouth']\n",
    "open_mouth_df.head()"
   ]
  },
  {
   "cell_type": "code",
   "execution_count": 5,
   "metadata": {},
   "outputs": [
    {
     "data": {
      "text/html": [
       "<div>\n",
       "<style scoped>\n",
       "    .dataframe tbody tr th:only-of-type {\n",
       "        vertical-align: middle;\n",
       "    }\n",
       "\n",
       "    .dataframe tbody tr th {\n",
       "        vertical-align: top;\n",
       "    }\n",
       "\n",
       "    .dataframe thead th {\n",
       "        text-align: right;\n",
       "    }\n",
       "</style>\n",
       "<table border=\"1\" class=\"dataframe\">\n",
       "  <thead>\n",
       "    <tr style=\"text-align: right;\">\n",
       "      <th></th>\n",
       "      <th>ImageName</th>\n",
       "      <th>5_o_Clock_Shadow</th>\n",
       "      <th>Arched_Eyebrows</th>\n",
       "      <th>Attractive</th>\n",
       "      <th>Bags_Under_Eyes</th>\n",
       "      <th>Bald</th>\n",
       "      <th>Bangs</th>\n",
       "      <th>Big_Lips</th>\n",
       "      <th>Big_Nose</th>\n",
       "      <th>Black_Hair</th>\n",
       "      <th>...</th>\n",
       "      <th>Smiling</th>\n",
       "      <th>Straight_Hair</th>\n",
       "      <th>Wavy_Hair</th>\n",
       "      <th>Wearing_Earrings</th>\n",
       "      <th>Wearing_Hat</th>\n",
       "      <th>Wearing_Lipstick</th>\n",
       "      <th>Wearing_Necklace</th>\n",
       "      <th>Wearing_Necktie</th>\n",
       "      <th>Young</th>\n",
       "      <th>open_mouth</th>\n",
       "    </tr>\n",
       "  </thead>\n",
       "  <tbody>\n",
       "    <tr>\n",
       "      <th>0</th>\n",
       "      <td>000077.jpg</td>\n",
       "      <td>-1</td>\n",
       "      <td>-1</td>\n",
       "      <td>1</td>\n",
       "      <td>-1</td>\n",
       "      <td>-1</td>\n",
       "      <td>1</td>\n",
       "      <td>-1</td>\n",
       "      <td>-1</td>\n",
       "      <td>-1</td>\n",
       "      <td>...</td>\n",
       "      <td>1</td>\n",
       "      <td>-1</td>\n",
       "      <td>1</td>\n",
       "      <td>-1</td>\n",
       "      <td>-1</td>\n",
       "      <td>1</td>\n",
       "      <td>-1</td>\n",
       "      <td>-1</td>\n",
       "      <td>1</td>\n",
       "      <td>0</td>\n",
       "    </tr>\n",
       "    <tr>\n",
       "      <th>1</th>\n",
       "      <td>000090.jpg</td>\n",
       "      <td>-1</td>\n",
       "      <td>-1</td>\n",
       "      <td>-1</td>\n",
       "      <td>-1</td>\n",
       "      <td>-1</td>\n",
       "      <td>-1</td>\n",
       "      <td>-1</td>\n",
       "      <td>-1</td>\n",
       "      <td>-1</td>\n",
       "      <td>...</td>\n",
       "      <td>0</td>\n",
       "      <td>1</td>\n",
       "      <td>-1</td>\n",
       "      <td>-1</td>\n",
       "      <td>-1</td>\n",
       "      <td>-1</td>\n",
       "      <td>-1</td>\n",
       "      <td>-1</td>\n",
       "      <td>1</td>\n",
       "      <td>0</td>\n",
       "    </tr>\n",
       "    <tr>\n",
       "      <th>2</th>\n",
       "      <td>000102.jpg</td>\n",
       "      <td>-1</td>\n",
       "      <td>-1</td>\n",
       "      <td>-1</td>\n",
       "      <td>-1</td>\n",
       "      <td>-1</td>\n",
       "      <td>-1</td>\n",
       "      <td>-1</td>\n",
       "      <td>-1</td>\n",
       "      <td>1</td>\n",
       "      <td>...</td>\n",
       "      <td>0</td>\n",
       "      <td>-1</td>\n",
       "      <td>-1</td>\n",
       "      <td>-1</td>\n",
       "      <td>-1</td>\n",
       "      <td>-1</td>\n",
       "      <td>-1</td>\n",
       "      <td>-1</td>\n",
       "      <td>1</td>\n",
       "      <td>0</td>\n",
       "    </tr>\n",
       "    <tr>\n",
       "      <th>3</th>\n",
       "      <td>000115.jpg</td>\n",
       "      <td>-1</td>\n",
       "      <td>-1</td>\n",
       "      <td>-1</td>\n",
       "      <td>-1</td>\n",
       "      <td>1</td>\n",
       "      <td>-1</td>\n",
       "      <td>-1</td>\n",
       "      <td>-1</td>\n",
       "      <td>-1</td>\n",
       "      <td>...</td>\n",
       "      <td>0</td>\n",
       "      <td>-1</td>\n",
       "      <td>-1</td>\n",
       "      <td>-1</td>\n",
       "      <td>-1</td>\n",
       "      <td>-1</td>\n",
       "      <td>-1</td>\n",
       "      <td>-1</td>\n",
       "      <td>-1</td>\n",
       "      <td>0</td>\n",
       "    </tr>\n",
       "    <tr>\n",
       "      <th>4</th>\n",
       "      <td>000149.jpg</td>\n",
       "      <td>-1</td>\n",
       "      <td>-1</td>\n",
       "      <td>-1</td>\n",
       "      <td>-1</td>\n",
       "      <td>-1</td>\n",
       "      <td>-1</td>\n",
       "      <td>-1</td>\n",
       "      <td>-1</td>\n",
       "      <td>-1</td>\n",
       "      <td>...</td>\n",
       "      <td>1</td>\n",
       "      <td>-1</td>\n",
       "      <td>-1</td>\n",
       "      <td>-1</td>\n",
       "      <td>1</td>\n",
       "      <td>-1</td>\n",
       "      <td>-1</td>\n",
       "      <td>-1</td>\n",
       "      <td>1</td>\n",
       "      <td>1</td>\n",
       "    </tr>\n",
       "  </tbody>\n",
       "</table>\n",
       "<p>5 rows × 42 columns</p>\n",
       "</div>"
      ],
      "text/plain": [
       "    ImageName  5_o_Clock_Shadow  Arched_Eyebrows  Attractive  Bags_Under_Eyes  \\\n",
       "0  000077.jpg                -1               -1           1               -1   \n",
       "1  000090.jpg                -1               -1          -1               -1   \n",
       "2  000102.jpg                -1               -1          -1               -1   \n",
       "3  000115.jpg                -1               -1          -1               -1   \n",
       "4  000149.jpg                -1               -1          -1               -1   \n",
       "\n",
       "   Bald  Bangs  Big_Lips  Big_Nose  Black_Hair     ...      Smiling  \\\n",
       "0    -1      1        -1        -1          -1     ...            1   \n",
       "1    -1     -1        -1        -1          -1     ...            0   \n",
       "2    -1     -1        -1        -1           1     ...            0   \n",
       "3     1     -1        -1        -1          -1     ...            0   \n",
       "4    -1     -1        -1        -1          -1     ...            1   \n",
       "\n",
       "   Straight_Hair  Wavy_Hair  Wearing_Earrings  Wearing_Hat  Wearing_Lipstick  \\\n",
       "0             -1          1                -1           -1                 1   \n",
       "1              1         -1                -1           -1                -1   \n",
       "2             -1         -1                -1           -1                -1   \n",
       "3             -1         -1                -1           -1                -1   \n",
       "4             -1         -1                -1            1                -1   \n",
       "\n",
       "   Wearing_Necklace  Wearing_Necktie  Young  open_mouth  \n",
       "0                -1               -1      1           0  \n",
       "1                -1               -1      1           0  \n",
       "2                -1               -1      1           0  \n",
       "3                -1               -1     -1           0  \n",
       "4                -1               -1      1           1  \n",
       "\n",
       "[5 rows x 42 columns]"
      ]
     },
     "execution_count": 5,
     "metadata": {},
     "output_type": "execute_result"
    }
   ],
   "source": [
    "training = pd.merge(training, open_mouth_df, how='right', on='ImageName')\n",
    "training.head()"
   ]
  },
  {
   "cell_type": "code",
   "execution_count": 6,
   "metadata": {},
   "outputs": [
    {
     "data": {
      "text/plain": [
       "(3724, 42)"
      ]
     },
     "execution_count": 6,
     "metadata": {},
     "output_type": "execute_result"
    }
   ],
   "source": [
    "training.shape"
   ]
  },
  {
   "cell_type": "code",
   "execution_count": 7,
   "metadata": {},
   "outputs": [],
   "source": [
    "from sklearn.model_selection import StratifiedKFold\n",
    "from sklearn.model_selection import train_test_split\n",
    "\n",
    "skf = StratifiedKFold(n_splits=5, shuffle=True, random_state=17)\n",
    "X_train_cv = skf.split(training.values, training['Smiling'].values)\n",
    "\n",
    "index_train_dict = {}\n",
    "index_test_dict = {}\n",
    "for i in range(5):\n",
    "    ind = next(X_train_cv)\n",
    "    index_train_dict['split_{}'.format(i)] = ind[0]\n",
    "    index_test_dict['split_{}'.format(i)] = ind[1]"
   ]
  },
  {
   "cell_type": "code",
   "execution_count": 8,
   "metadata": {},
   "outputs": [],
   "source": [
    "from sklearn.utils import shuffle\n",
    "import cv2 as cv"
   ]
  },
  {
   "cell_type": "code",
   "execution_count": 9,
   "metadata": {},
   "outputs": [],
   "source": [
    "face_cascade = cv.CascadeClassifier('/media/danil/Data/Kaggle/airbus-ship-detection/venv/lib/python3.5/site-packages/cv2/data/haarcascade_frontalface_default.xml')\n",
    "def cascadeHaar(img):\n",
    "    img = np.array(img, dtype=np.uint8)\n",
    "    faces = face_cascade.detectMultiScale(img, 1.3, 5)\n",
    "    for face in faces:\n",
    "        img = img[max(0,face[1]):max(0,face[1])+max(0,face[3]), max(0,face[0]):max(0,face[0])+max(0,face[2])]\n",
    "        return img, 1\n",
    "    return img, 0"
   ]
  },
  {
   "cell_type": "code",
   "execution_count": 10,
   "metadata": {},
   "outputs": [
    {
     "name": "stdout",
     "output_type": "stream",
     "text": [
      "WARNING:tensorflow:From /media/danil/Data/Kaggle/airbus-ship-detection/venv/lib/python3.5/site-packages/mtcnn/layer_factory.py:211: calling reduce_max (from tensorflow.python.ops.math_ops) with keep_dims is deprecated and will be removed in a future version.\n",
      "Instructions for updating:\n",
      "keep_dims is deprecated, use keepdims instead\n",
      "WARNING:tensorflow:From /media/danil/Data/Kaggle/airbus-ship-detection/venv/lib/python3.5/site-packages/mtcnn/layer_factory.py:213: calling reduce_sum (from tensorflow.python.ops.math_ops) with keep_dims is deprecated and will be removed in a future version.\n",
      "Instructions for updating:\n",
      "keep_dims is deprecated, use keepdims instead\n"
     ]
    }
   ],
   "source": [
    "import dlib\n",
    "hog_face_detector = dlib.get_frontal_face_detector()\n",
    "def hog_face_detection(img):\n",
    "    faces_hog = hog_face_detector(img, 1)\n",
    "    for face in faces_hog:\n",
    "        img = img[max(0,face.top()):max(0,face.bottom()), max(0,face.left()):max(0,face.right())]\n",
    "        return img, 1\n",
    "    return img, 0\n",
    "\n",
    "cnn_face_detector = dlib.cnn_face_detection_model_v1('mmod_human_face_detector.dat')\n",
    "def cnn_face_detection(img):\n",
    "    faces_cnn = cnn_face_detector(img, 1)\n",
    "    for face in faces_cnn:\n",
    "        img = img[max(0,face.rect.top()):max(0,face.rect.bottom()), max(0,face.rect.left()):max(0,face.rect.right())]\n",
    "        return img, 1\n",
    "    return img, 0\n",
    "\n",
    "from mtcnn.mtcnn import MTCNN\n",
    "detector = MTCNN()\n",
    "def mtcnn_detect(img):\n",
    "    faces = detector.detect_faces(img)\n",
    "    for face in faces:\n",
    "        img = img[max(0,face['box'][1]):max(0,face['box'][1]) + max(0,face['box'][3]), \n",
    "                  max(0,face['box'][0]): max(0,face['box'][0]) + max(0,face['box'][2])]\n",
    "        return img, 1\n",
    "    return img, 0\n",
    "\n",
    "def get_face(img):\n",
    "    img, label = mtcnn_detect(img)\n",
    "    if label==0:\n",
    "        img, label = hog_face_detection(img)\n",
    "        if label==0:\n",
    "            img, label = cnn_face_detection(img)\n",
    "            if label==0:\n",
    "                img, label = cascadeHaar(img)\n",
    "    return img, label"
   ]
  },
  {
   "cell_type": "code",
   "execution_count": 11,
   "metadata": {},
   "outputs": [
    {
     "data": {
      "application/vnd.jupyter.widget-view+json": {
       "model_id": "357cf5a79690438598a37f70743a9725",
       "version_major": 2,
       "version_minor": 0
      },
      "text/plain": [
       "HBox(children=(IntProgress(value=0, max=10), HTML(value='')))"
      ]
     },
     "metadata": {},
     "output_type": "display_data"
    },
    {
     "name": "stderr",
     "output_type": "stream",
     "text": [
      "/media/danil/Data/Kaggle/airbus-ship-detection/venv/lib/python3.5/site-packages/skimage/transform/_warps.py:105: UserWarning: The default mode, 'constant', will be changed to 'reflect' in skimage 0.15.\n",
      "  warn(\"The default mode, 'constant', will be changed to 'reflect' in \"\n",
      "/media/danil/Data/Kaggle/airbus-ship-detection/venv/lib/python3.5/site-packages/skimage/transform/_warps.py:110: UserWarning: Anti-aliasing will be enabled by default in skimage 0.15 to avoid aliasing artifacts when down-sampling images.\n",
      "  warn(\"Anti-aliasing will be enabled by default in skimage 0.15 to \"\n"
     ]
    },
    {
     "name": "stdout",
     "output_type": "stream",
     "text": [
      "\n"
     ]
    }
   ],
   "source": [
    "training = shuffle(training)\n",
    "out_rgb = []\n",
    "out_smiles = []\n",
    "out_mouths = []\n",
    "for path_img, smile, open_mouth in tqdm_notebook(training[['ImageName', 'Smiling', 'open_mouth']].values[:10]):\n",
    "    img = cv.imread(os.path.join(path_to_img, path_img))\n",
    "    img, label = get_face(img)\n",
    "    img = resize(img, (224,224,3))\n",
    "    out_rgb += [img]\n",
    "    out_smiles += [smile]\n",
    "    out_mouths += [open_mouth]\n",
    "    if label == 0:\n",
    "        out_rgb.pop()\n",
    "        out_smiles.pop()\n",
    "        out_mouths.pop()"
   ]
  },
  {
   "cell_type": "code",
   "execution_count": 12,
   "metadata": {},
   "outputs": [],
   "source": [
    "out_smiles += out_smiles\n",
    "out_mouths += out_mouths\n",
    "x_train = np.append(out_rgb, [np.fliplr(x) for x in out_rgb], axis=0)"
   ]
  },
  {
   "cell_type": "markdown",
   "metadata": {},
   "source": [
    "# Build Model"
   ]
  },
  {
   "cell_type": "code",
   "execution_count": 13,
   "metadata": {},
   "outputs": [],
   "source": [
    "from keras import backend as K\n",
    "K.clear_session()"
   ]
  },
  {
   "cell_type": "code",
   "execution_count": 14,
   "metadata": {},
   "outputs": [
    {
     "name": "stderr",
     "output_type": "stream",
     "text": [
      "/media/danil/Data/Kaggle/airbus-ship-detection/venv/lib/python3.5/site-packages/ipykernel_launcher.py:30: UserWarning: Update your `Model` call to the Keras 2 API: `Model(inputs=Tensor(\"in..., outputs=[<tf.Tenso...)`\n"
     ]
    }
   ],
   "source": [
    "from keras.applications import NASNetMobile\n",
    "model = NASNetMobile(weights = \"imagenet\", include_top=False, input_shape = (224, 224, 3))\n",
    "\n",
    "from keras.layers import Flatten, Dense, Dropout, BatchNormalization, GlobalMaxPooling2D\n",
    "from keras.regularizers import l2\n",
    "#Adding custom Layers \n",
    "x = model.output\n",
    "x = BatchNormalization()(x)\n",
    "x = GlobalMaxPooling2D()(x)\n",
    "\n",
    "x1 = Dense(1024, activation=\"elu\", kernel_regularizer=l2(0.0001), bias_regularizer=l2(0.0001))(x)\n",
    "x1 = BatchNormalization()(x1)\n",
    "x1 = Dropout(0.5)(x1)\n",
    "x1 = Dense(256, activation=\"elu\", kernel_regularizer=l2(0.0001), bias_regularizer=l2(0.0001))(x1)\n",
    "x1 = BatchNormalization()(x1)\n",
    "#x1 = Dropout(0.5)(x1)\n",
    "\n",
    "x2 = Dense(1024, activation=\"elu\", kernel_regularizer=l2(0.0001), bias_regularizer=l2(0.0001))(x)\n",
    "x2 = BatchNormalization()(x2)\n",
    "x2 = Dropout(0.5)(x2)\n",
    "x2 = Dense(256, activation=\"elu\", kernel_regularizer=l2(0.0001), bias_regularizer=l2(0.0001))(x2)\n",
    "x2 = BatchNormalization()(x2)\n",
    "#x2 = Dropout(0.5)(x2)\n",
    "\n",
    "out_smile = Dense(1, activation=\"sigmoid\", kernel_regularizer=l2(0.0001), bias_regularizer=l2(0.0001), name='out_smile')(x1)\n",
    "out_mouth = Dense(1, activation=\"sigmoid\", kernel_regularizer=l2(0.0001), bias_regularizer=l2(0.0001), name='out_mouth')(x2)\n",
    "\n",
    "from keras.models import Model\n",
    "# creating the final model \n",
    "model_final = Model(input = model.input, output = [out_smile, out_mouth])"
   ]
  },
  {
   "cell_type": "code",
   "execution_count": 15,
   "metadata": {},
   "outputs": [],
   "source": [
    "from keras.optimizers import Adam\n",
    "from sklearn.metrics import roc_curve, auc, roc_auc_score\n",
    "from keras.models import Model\n",
    "\n",
    "from keras import backend as K\n",
    "import tensorflow as tf\n",
    "def auc(y_true, y_pred):\n",
    "    auc = tf.metrics.auc(y_true, y_pred)[1]\n",
    "    K.get_session().run(tf.local_variables_initializer())\n",
    "    return auc\n",
    "  \n",
    "def f1(y_true, y_pred):\n",
    "    def recall(y_true, y_pred):\n",
    "        \"\"\"Recall metric.\n",
    "\n",
    "        Only computes a batch-wise average of recall.\n",
    "\n",
    "        Computes the recall, a metric for multi-label classification of\n",
    "        how many relevant items are selected.\n",
    "        \"\"\"\n",
    "        true_positives = K.sum(K.round(K.clip(y_true * y_pred, 0, 1)))\n",
    "        possible_positives = K.sum(K.round(K.clip(y_true, 0, 1)))\n",
    "        recall = true_positives / (possible_positives + K.epsilon())\n",
    "        return recall\n",
    "\n",
    "    def precision(y_true, y_pred):\n",
    "        \"\"\"Precision metric.\n",
    "\n",
    "        Only computes a batch-wise average of precision.\n",
    "\n",
    "        Computes the precision, a metric for multi-label classification of\n",
    "        how many selected items are relevant.\n",
    "        \"\"\"\n",
    "        true_positives = K.sum(K.round(K.clip(y_true * y_pred, 0, 1)))\n",
    "        predicted_positives = K.sum(K.round(K.clip(y_pred, 0, 1)))\n",
    "        precision = true_positives / (predicted_positives + K.epsilon())\n",
    "        return precision\n",
    "    precision = precision(y_true, y_pred)\n",
    "    recall = recall(y_true, y_pred)\n",
    "    return 2*((precision*recall)/(precision+recall+K.epsilon()))\n",
    "\n",
    "# compile the model \n",
    "model_final.compile(loss = {'out_smile':\"binary_crossentropy\", 'out_mouth':\"binary_crossentropy\"}, optimizer = Adam(lr=0.001, decay=0.0001), metrics=[f1], loss_weights=[0.5, 0.5])"
   ]
  },
  {
   "cell_type": "code",
   "execution_count": 16,
   "metadata": {},
   "outputs": [],
   "source": [
    "from keras.callbacks import ModelCheckpoint, ReduceLROnPlateau, LearningRateScheduler\n",
    "\n",
    "weight_path='solution1.h5'\n",
    "\n",
    "checkpoint = ModelCheckpoint(weight_path, monitor='val_out_smile_f1', verbose=1, \n",
    "                             save_best_only=True, mode='max', save_weights_only=True)\n",
    "\n",
    "\n",
    "def exp_decay(epoch):\n",
    "    initial_lrate = 0.001\n",
    "    k = 0.1\n",
    "    lrate = initial_lrate * np.exp(-k*epoch)\n",
    "    return lrate\n",
    "lrate = LearningRateScheduler(exp_decay)\n",
    "\n",
    "callbacks_list = [lrate, checkpoint]"
   ]
  },
  {
   "cell_type": "code",
   "execution_count": 17,
   "metadata": {
    "scrolled": true
   },
   "outputs": [
    {
     "name": "stdout",
     "output_type": "stream",
     "text": [
      "Train on 6300 samples, validate on 1112 samples\n",
      "Epoch 1/30\n",
      "6300/6300 [==============================] - 119s 19ms/step - loss: 0.7057 - out_smile_loss: 0.3914 - out_mouth_loss: 0.4297 - out_smile_f1: 0.8343 - out_mouth_f1: 0.8192 - val_loss: 0.6402 - val_out_smile_loss: 0.4515 - val_out_mouth_loss: 0.2423 - val_out_smile_f1: 0.8211 - val_out_mouth_f1: 0.8711\n",
      "\n",
      "Epoch 00001: val_out_smile_f1 improved from -inf to 0.82114, saving model to solution1.h5\n",
      "Epoch 2/30\n",
      "6300/6300 [==============================] - 78s 12ms/step - loss: 0.3933 - out_smile_loss: 0.1987 - out_mouth_loss: 0.0138 - out_smile_f1: 0.9154 - out_mouth_f1: 0.9259 - val_loss: 0.6298 - val_out_smile_loss: 0.2072 - val_out_mouth_loss: 0.4924 - val_out_smile_f1: 0.9089 - val_out_mouth_f1: 0.7726\n",
      "\n",
      "Epoch 00002: val_out_smile_f1 improved from 0.82114 to 0.90890, saving model to solution1.h5\n",
      "Epoch 3/30\n",
      "6300/6300 [==============================] - 77s 12ms/step - loss: 0.2886 - out_smile_loss: 0.1388 - out_mouth_loss: -0.1082 - out_smile_f1: 0.9444 - out_mouth_f1: 0.9416 - val_loss: 0.6588 - val_out_smile_loss: 0.5105 - val_out_mouth_loss: 0.2758 - val_out_smile_f1: 0.8258 - val_out_mouth_f1: 0.8884\n",
      "\n",
      "Epoch 00003: val_out_smile_f1 did not improve from 0.90890\n",
      "Epoch 4/30\n",
      "6300/6300 [==============================] - 77s 12ms/step - loss: 0.2718 - out_smile_loss: 0.1261 - out_mouth_loss: -0.1000 - out_smile_f1: 0.9494 - out_mouth_f1: 0.9470 - val_loss: 0.7503 - val_out_smile_loss: 0.5557 - val_out_mouth_loss: 0.4416 - val_out_smile_f1: 0.8615 - val_out_mouth_f1: 0.8608\n",
      "\n",
      "Epoch 00004: val_out_smile_f1 did not improve from 0.90890\n",
      "Epoch 5/30\n",
      "6300/6300 [==============================] - 77s 12ms/step - loss: 0.2208 - out_smile_loss: 0.0973 - out_mouth_loss: -0.1451 - out_smile_f1: 0.9595 - out_mouth_f1: 0.9572 - val_loss: 1.3093 - val_out_smile_loss: 0.4054 - val_out_mouth_loss: 1.7374 - val_out_smile_f1: 0.8097 - val_out_mouth_f1: 0.2141\n",
      "\n",
      "Epoch 00005: val_out_smile_f1 did not improve from 0.90890\n",
      "Epoch 6/30\n",
      "6300/6300 [==============================] - 77s 12ms/step - loss: 0.1787 - out_smile_loss: 0.0840 - out_mouth_loss: -0.1897 - out_smile_f1: 0.9684 - out_mouth_f1: 0.9689 - val_loss: 0.7226 - val_out_smile_loss: 0.6710 - val_out_mouth_loss: 0.3239 - val_out_smile_f1: 0.8093 - val_out_mouth_f1: 0.8684\n",
      "\n",
      "Epoch 00006: val_out_smile_f1 did not improve from 0.90890\n",
      "Epoch 7/30\n",
      "6300/6300 [==============================] - 77s 12ms/step - loss: 0.1178 - out_smile_loss: 0.0415 - out_mouth_loss: -0.2442 - out_smile_f1: 0.9837 - out_mouth_f1: 0.9834 - val_loss: 0.5326 - val_out_smile_loss: 0.3982 - val_out_mouth_loss: 0.2412 - val_out_smile_f1: 0.8980 - val_out_mouth_f1: 0.8650\n",
      "\n",
      "Epoch 00007: val_out_smile_f1 did not improve from 0.90890\n",
      "Epoch 8/30\n",
      "6300/6300 [==============================] - 77s 12ms/step - loss: 0.0853 - out_smile_loss: 0.0340 - out_mouth_loss: -0.2782 - out_smile_f1: 0.9869 - out_mouth_f1: 0.9947 - val_loss: 0.4022 - val_out_smile_loss: 0.3645 - val_out_mouth_loss: 0.0363 - val_out_smile_f1: 0.9034 - val_out_mouth_f1: 0.9132\n",
      "\n",
      "Epoch 00008: val_out_smile_f1 did not improve from 0.90890\n",
      "Epoch 9/30\n",
      "6300/6300 [==============================] - 77s 12ms/step - loss: 0.0626 - out_smile_loss: 0.0160 - out_mouth_loss: -0.2842 - out_smile_f1: 0.9937 - out_mouth_f1: 0.9963 - val_loss: 0.4528 - val_out_smile_loss: 0.3346 - val_out_mouth_loss: 0.1880 - val_out_smile_f1: 0.9006 - val_out_mouth_f1: 0.8691\n",
      "\n",
      "Epoch 00009: val_out_smile_f1 did not improve from 0.90890\n",
      "Epoch 10/30\n",
      "6300/6300 [==============================] - 77s 12ms/step - loss: 0.0546 - out_smile_loss: 0.0130 - out_mouth_loss: -0.2779 - out_smile_f1: 0.9957 - out_mouth_f1: 0.9933 - val_loss: 0.4036 - val_out_smile_loss: 0.2265 - val_out_mouth_loss: 0.2161 - val_out_smile_f1: 0.9272 - val_out_mouth_f1: 0.8873\n",
      "\n",
      "Epoch 00010: val_out_smile_f1 improved from 0.90890 to 0.92718, saving model to solution1.h5\n",
      "Epoch 11/30\n",
      "6300/6300 [==============================] - 77s 12ms/step - loss: 0.0378 - out_smile_loss: 0.0083 - out_mouth_loss: -0.2891 - out_smile_f1: 0.9973 - out_mouth_f1: 0.9979 - val_loss: 0.2731 - val_out_smile_loss: 0.2522 - val_out_mouth_loss: -0.0540 - val_out_smile_f1: 0.9247 - val_out_mouth_f1: 0.9393\n",
      "\n",
      "Epoch 00011: val_out_smile_f1 did not improve from 0.92718\n",
      "Epoch 12/30\n",
      "6300/6300 [==============================] - 77s 12ms/step - loss: 0.0249 - out_smile_loss: 0.0033 - out_mouth_loss: -0.2938 - out_smile_f1: 0.9991 - out_mouth_f1: 0.9995 - val_loss: 0.2213 - val_out_smile_loss: 0.1883 - val_out_mouth_loss: -0.0783 - val_out_smile_f1: 0.9439 - val_out_mouth_f1: 0.9445\n",
      "\n",
      "Epoch 00012: val_out_smile_f1 improved from 0.92718 to 0.94395, saving model to solution1.h5\n",
      "Epoch 13/30\n",
      "6300/6300 [==============================] - 77s 12ms/step - loss: 0.0213 - out_smile_loss: 0.0109 - out_mouth_loss: -0.2942 - out_smile_f1: 0.9970 - out_mouth_f1: 0.9992 - val_loss: 0.2157 - val_out_smile_loss: 0.1744 - val_out_mouth_loss: -0.0619 - val_out_smile_f1: 0.9429 - val_out_mouth_f1: 0.9437\n",
      "\n",
      "Epoch 00013: val_out_smile_f1 did not improve from 0.94395\n",
      "Epoch 14/30\n",
      "6300/6300 [==============================] - 77s 12ms/step - loss: 0.0127 - out_smile_loss: 0.0068 - out_mouth_loss: -0.2942 - out_smile_f1: 0.9973 - out_mouth_f1: 0.9995 - val_loss: 0.2031 - val_out_smile_loss: 0.1660 - val_out_mouth_loss: -0.0662 - val_out_smile_f1: 0.9535 - val_out_mouth_f1: 0.9433\n",
      "\n",
      "Epoch 00014: val_out_smile_f1 improved from 0.94395 to 0.95353, saving model to solution1.h5\n",
      "Epoch 15/30\n",
      "6300/6300 [==============================] - 77s 12ms/step - loss: 0.0070 - out_smile_loss: 0.0072 - out_mouth_loss: -0.2941 - out_smile_f1: 0.9975 - out_mouth_f1: 0.9995 - val_loss: 0.1847 - val_out_smile_loss: 0.1750 - val_out_mouth_loss: -0.1008 - val_out_smile_f1: 0.9526 - val_out_mouth_f1: 0.9512\n",
      "\n",
      "Epoch 00015: val_out_smile_f1 did not improve from 0.95353\n",
      "Epoch 16/30\n",
      "6300/6300 [==============================] - 77s 12ms/step - loss: 8.1742e-05 - out_smile_loss: 0.0049 - out_mouth_loss: -0.2949 - out_smile_f1: 0.9980 - out_mouth_f1: 0.9998 - val_loss: 0.1672 - val_out_smile_loss: 0.1579 - val_out_mouth_loss: -0.1085 - val_out_smile_f1: 0.9549 - val_out_mouth_f1: 0.9540\n",
      "\n",
      "Epoch 00016: val_out_smile_f1 improved from 0.95353 to 0.95488, saving model to solution1.h5\n",
      "Epoch 17/30\n",
      "6300/6300 [==============================] - 77s 12ms/step - loss: -0.0055 - out_smile_loss: 0.0033 - out_mouth_loss: -0.2947 - out_smile_f1: 0.9993 - out_mouth_f1: 0.9996 - val_loss: 0.1714 - val_out_smile_loss: 0.1767 - val_out_mouth_loss: -0.1095 - val_out_smile_f1: 0.9523 - val_out_mouth_f1: 0.9531\n",
      "\n",
      "Epoch 00017: val_out_smile_f1 did not improve from 0.95488\n",
      "Epoch 18/30\n",
      "6300/6300 [==============================] - 77s 12ms/step - loss: -0.0111 - out_smile_loss: 0.0015 - out_mouth_loss: -0.2950 - out_smile_f1: 0.9992 - out_mouth_f1: 0.9998 - val_loss: 0.2134 - val_out_smile_loss: 0.2400 - val_out_mouth_loss: -0.0803 - val_out_smile_f1: 0.9398 - val_out_mouth_f1: 0.9471\n",
      "\n",
      "Epoch 00018: val_out_smile_f1 did not improve from 0.95488\n",
      "Epoch 19/30\n",
      "6300/6300 [==============================] - 77s 12ms/step - loss: -0.0145 - out_smile_loss: 0.0029 - out_mouth_loss: -0.2952 - out_smile_f1: 0.9995 - out_mouth_f1: 0.9997 - val_loss: 0.1887 - val_out_smile_loss: 0.2486 - val_out_mouth_loss: -0.1305 - val_out_smile_f1: 0.9411 - val_out_mouth_f1: 0.9542\n",
      "\n",
      "Epoch 00019: val_out_smile_f1 did not improve from 0.95488\n",
      "Epoch 20/30\n",
      "6300/6300 [==============================] - 77s 12ms/step - loss: -0.0196 - out_smile_loss: 4.9023e-04 - out_mouth_loss: -0.2954 - out_smile_f1: 1.0000 - out_mouth_f1: 0.9998 - val_loss: 0.1704 - val_out_smile_loss: 0.1870 - val_out_mouth_loss: -0.0983 - val_out_smile_f1: 0.9530 - val_out_mouth_f1: 0.9512\n",
      "\n",
      "Epoch 00020: val_out_smile_f1 did not improve from 0.95488\n",
      "Epoch 21/30\n",
      "6300/6300 [==============================] - 77s 12ms/step - loss: -0.0216 - out_smile_loss: 0.0033 - out_mouth_loss: -0.2955 - out_smile_f1: 0.9989 - out_mouth_f1: 0.9998 - val_loss: 0.1521 - val_out_smile_loss: 0.1560 - val_out_mouth_loss: -0.0973 - val_out_smile_f1: 0.9545 - val_out_mouth_f1: 0.9513\n",
      "\n",
      "Epoch 00021: val_out_smile_f1 did not improve from 0.95488\n",
      "Epoch 22/30\n",
      "6300/6300 [==============================] - 78s 12ms/step - loss: -0.0257 - out_smile_loss: 4.7786e-04 - out_mouth_loss: -0.2946 - out_smile_f1: 1.0000 - out_mouth_f1: 0.9992 - val_loss: 0.1629 - val_out_smile_loss: 0.1600 - val_out_mouth_loss: -0.0738 - val_out_smile_f1: 0.9592 - val_out_mouth_f1: 0.9507\n",
      "\n",
      "Epoch 00022: val_out_smile_f1 improved from 0.95488 to 0.95922, saving model to solution1.h5\n",
      "Epoch 23/30\n",
      "6300/6300 [==============================] - 77s 12ms/step - loss: -0.0292 - out_smile_loss: 2.5042e-04 - out_mouth_loss: -0.2957 - out_smile_f1: 1.0000 - out_mouth_f1: 1.0000 - val_loss: 0.1618 - val_out_smile_loss: 0.1548 - val_out_mouth_loss: -0.0654 - val_out_smile_f1: 0.9603 - val_out_mouth_f1: 0.9476\n",
      "\n",
      "Epoch 00023: val_out_smile_f1 improved from 0.95922 to 0.96025, saving model to solution1.h5\n",
      "Epoch 24/30\n",
      "6300/6300 [==============================] - 77s 12ms/step - loss: -0.0318 - out_smile_loss: 3.0250e-04 - out_mouth_loss: -0.2955 - out_smile_f1: 1.0000 - out_mouth_f1: 0.9998 - val_loss: 0.1514 - val_out_smile_loss: 0.1538 - val_out_mouth_loss: -0.0801 - val_out_smile_f1: 0.9622 - val_out_mouth_f1: 0.9507\n",
      "\n",
      "Epoch 00024: val_out_smile_f1 improved from 0.96025 to 0.96220, saving model to solution1.h5\n",
      "Epoch 25/30\n",
      "6300/6300 [==============================] - 77s 12ms/step - loss: -0.0341 - out_smile_loss: 5.8682e-04 - out_mouth_loss: -0.2956 - out_smile_f1: 0.9999 - out_mouth_f1: 1.0000 - val_loss: 0.1424 - val_out_smile_loss: 0.1504 - val_out_mouth_loss: -0.0900 - val_out_smile_f1: 0.9621 - val_out_mouth_f1: 0.9562\n",
      "\n",
      "Epoch 00025: val_out_smile_f1 did not improve from 0.96220\n",
      "Epoch 26/30\n",
      "6300/6300 [==============================] - 77s 12ms/step - loss: -0.0364 - out_smile_loss: 4.3400e-04 - out_mouth_loss: -0.2956 - out_smile_f1: 0.9998 - out_mouth_f1: 0.9999 - val_loss: 0.1311 - val_out_smile_loss: 0.1495 - val_out_mouth_loss: -0.1076 - val_out_smile_f1: 0.9590 - val_out_mouth_f1: 0.9578\n",
      "\n",
      "Epoch 00026: val_out_smile_f1 did not improve from 0.96220\n",
      "Epoch 27/30\n",
      "6300/6300 [==============================] - 77s 12ms/step - loss: -0.0379 - out_smile_loss: 0.0018 - out_mouth_loss: -0.2957 - out_smile_f1: 0.9996 - out_mouth_f1: 1.0000 - val_loss: 0.1417 - val_out_smile_loss: 0.1829 - val_out_mouth_loss: -0.1158 - val_out_smile_f1: 0.9596 - val_out_mouth_f1: 0.9576\n",
      "\n",
      "Epoch 00027: val_out_smile_f1 did not improve from 0.96220\n",
      "Epoch 28/30\n",
      "6300/6300 [==============================] - 77s 12ms/step - loss: -0.0392 - out_smile_loss: 0.0028 - out_mouth_loss: -0.2957 - out_smile_f1: 0.9991 - out_mouth_f1: 0.9998 - val_loss: 0.1339 - val_out_smile_loss: 0.1552 - val_out_mouth_loss: -0.1000 - val_out_smile_f1: 0.9574 - val_out_mouth_f1: 0.9585\n",
      "\n",
      "Epoch 00028: val_out_smile_f1 did not improve from 0.96220\n",
      "Epoch 29/30\n",
      "6300/6300 [==============================] - 77s 12ms/step - loss: -0.0424 - out_smile_loss: 2.1481e-04 - out_mouth_loss: -0.2958 - out_smile_f1: 1.0000 - out_mouth_f1: 1.0000 - val_loss: 0.1261 - val_out_smile_loss: 0.1375 - val_out_mouth_loss: -0.0946 - val_out_smile_f1: 0.9616 - val_out_mouth_f1: 0.9579\n",
      "\n",
      "Epoch 00029: val_out_smile_f1 did not improve from 0.96220\n",
      "Epoch 30/30\n",
      "6300/6300 [==============================] - 77s 12ms/step - loss: -0.0437 - out_smile_loss: 6.7968e-04 - out_mouth_loss: -0.2958 - out_smile_f1: 0.9999 - out_mouth_f1: 1.0000 - val_loss: 0.1210 - val_out_smile_loss: 0.1405 - val_out_mouth_loss: -0.1046 - val_out_smile_f1: 0.9653 - val_out_mouth_f1: 0.9588\n",
      "\n",
      "Epoch 00030: val_out_smile_f1 improved from 0.96220 to 0.96531, saving model to solution1.h5\n"
     ]
    },
    {
     "data": {
      "text/plain": [
       "<keras.callbacks.History at 0x7f943b64b5f8>"
      ]
     },
     "execution_count": 17,
     "metadata": {},
     "output_type": "execute_result"
    }
   ],
   "source": [
    "model_final.fit(x_train, \n",
    "                [out_smiles, out_mouths],\n",
    "                epochs = 30,\n",
    "                batch_size = 64, \n",
    "                validation_split=0.15,\n",
    "                callbacks = callbacks_list,\n",
    "                initial_epoch = 0)"
   ]
  },
  {
   "cell_type": "markdown",
   "metadata": {},
   "source": [
    "# TEST"
   ]
  },
  {
   "cell_type": "code",
   "execution_count": 30,
   "metadata": {},
   "outputs": [],
   "source": [
    "model_final.load_weights(weight_path)"
   ]
  },
  {
   "cell_type": "code",
   "execution_count": 19,
   "metadata": {},
   "outputs": [],
   "source": [
    "path_test = '/media/danil/Data/Datasets/example_data'\n",
    "test_images = os.listdir(os.path.join(path_test,'images'))\n",
    "test_images = [i for i in test_images if 'jpg' in i]\n",
    "\n",
    "test_smile = os.listdir(os.path.join(path_test,'smile'))\n",
    "test_smile = [i for i in test_smile if 'jpg' in i]\n",
    "\n",
    "test_open_mouth = os.listdir(os.path.join(path_test,'open_mouth'))\n",
    "test_open_mouth = [i for i in test_open_mouth if 'jpg' in i]"
   ]
  },
  {
   "cell_type": "code",
   "execution_count": 20,
   "metadata": {},
   "outputs": [
    {
     "data": {
      "text/plain": [
       "38"
      ]
     },
     "execution_count": 20,
     "metadata": {},
     "output_type": "execute_result"
    }
   ],
   "source": [
    "test_mouth = []\n",
    "for i in test_images:\n",
    "    if i in test_open_mouth:\n",
    "        test_mouth += [1]\n",
    "    else:\n",
    "        test_mouth += [0]\n",
    "sum(test_mouth)"
   ]
  },
  {
   "cell_type": "code",
   "execution_count": 21,
   "metadata": {},
   "outputs": [
    {
     "data": {
      "text/plain": [
       "23"
      ]
     },
     "execution_count": 21,
     "metadata": {},
     "output_type": "execute_result"
    }
   ],
   "source": [
    "test_smiles = []\n",
    "for i in test_images:\n",
    "    if i in test_smile:\n",
    "        test_smiles += [1]\n",
    "    else:\n",
    "        test_smiles += [0]\n",
    "sum(test_smiles)"
   ]
  },
  {
   "cell_type": "code",
   "execution_count": 22,
   "metadata": {},
   "outputs": [],
   "source": [
    "test_df = pd.DataFrame()\n",
    "test_df['image'] = test_images\n",
    "test_df['smile'] = test_smiles\n",
    "test_df['mouth'] = test_smiles"
   ]
  },
  {
   "cell_type": "code",
   "execution_count": 23,
   "metadata": {},
   "outputs": [
    {
     "data": {
      "text/plain": [
       "510809"
      ]
     },
     "execution_count": 23,
     "metadata": {},
     "output_type": "execute_result"
    }
   ],
   "source": [
    "import gc\n",
    "del out_rgb, x_train\n",
    "gc.collect()"
   ]
  },
  {
   "cell_type": "code",
   "execution_count": 24,
   "metadata": {},
   "outputs": [
    {
     "data": {
      "application/vnd.jupyter.widget-view+json": {
       "model_id": "2ce2f35e09534062992f860dd96370ec",
       "version_major": 2,
       "version_minor": 0
      },
      "text/plain": [
       "HBox(children=(IntProgress(value=0, max=300), HTML(value='')))"
      ]
     },
     "metadata": {},
     "output_type": "display_data"
    },
    {
     "name": "stderr",
     "output_type": "stream",
     "text": [
      "/media/danil/Data/Kaggle/airbus-ship-detection/venv/lib/python3.5/site-packages/skimage/transform/_warps.py:105: UserWarning: The default mode, 'constant', will be changed to 'reflect' in skimage 0.15.\n",
      "  warn(\"The default mode, 'constant', will be changed to 'reflect' in \"\n",
      "/media/danil/Data/Kaggle/airbus-ship-detection/venv/lib/python3.5/site-packages/skimage/transform/_warps.py:110: UserWarning: Anti-aliasing will be enabled by default in skimage 0.15 to avoid aliasing artifacts when down-sampling images.\n",
      "  warn(\"Anti-aliasing will be enabled by default in skimage 0.15 to \"\n"
     ]
    },
    {
     "name": "stdout",
     "output_type": "stream",
     "text": [
      "\n"
     ]
    }
   ],
   "source": [
    "test_imgs = [cv.imread(os.path.join(path_test, 'images', i)) for i in test_images]\n",
    "test_imgs = [resize(get_face(i)[0], (224,224,3)) for i in tqdm_notebook(test_imgs)]"
   ]
  },
  {
   "cell_type": "code",
   "execution_count": 25,
   "metadata": {},
   "outputs": [],
   "source": [
    "from sklearn.metrics import roc_auc_score, f1_score"
   ]
  },
  {
   "cell_type": "code",
   "execution_count": 31,
   "metadata": {},
   "outputs": [],
   "source": [
    "predict = model_final.predict(np.stack(test_imgs, 0))"
   ]
  },
  {
   "cell_type": "code",
   "execution_count": 32,
   "metadata": {},
   "outputs": [],
   "source": [
    "score_smile = roc_auc_score(test_df.smile.values, predict[0])\n",
    "score_mouth = roc_auc_score(test_df.mouth.values, predict[1])\n",
    "\n",
    "f1_score_smile = f1_score(test_df.smile.values, np.round(predict[0]))\n",
    "f1_score_mouth = f1_score(test_df.mouth.values, np.round(predict[1]))"
   ]
  },
  {
   "cell_type": "code",
   "execution_count": 33,
   "metadata": {},
   "outputs": [
    {
     "name": "stdout",
     "output_type": "stream",
     "text": [
      "0.547945205479452\n",
      "0.3692307692307692\n"
     ]
    }
   ],
   "source": [
    "print(f1_score_smile)\n",
    "print(f1_score_mouth)"
   ]
  },
  {
   "cell_type": "code",
   "execution_count": 34,
   "metadata": {},
   "outputs": [
    {
     "name": "stdout",
     "output_type": "stream",
     "text": [
      "0.9386281588447654\n",
      "0.8177680113012087\n"
     ]
    }
   ],
   "source": [
    "print(score_smile)\n",
    "print(score_mouth)"
   ]
  },
  {
   "cell_type": "code",
   "execution_count": 35,
   "metadata": {},
   "outputs": [],
   "source": [
    "tresh = np.arange(0.1, 0.9, 0.05)\n",
    "scores_smile = []\n",
    "scores_mouth = []\n",
    "for i in tresh:\n",
    "    scores_smile += [f1_score(test_df.smile.values, np.array(predict[0]>i, dtype=int))]\n",
    "    scores_mouth += [f1_score(test_df.mouth.values, np.array(predict[1]>i, dtype=int))]"
   ]
  },
  {
   "cell_type": "code",
   "execution_count": 37,
   "metadata": {},
   "outputs": [
    {
     "data": {
      "text/plain": [
       "[<matplotlib.lines.Line2D at 0x7f93079262e8>]"
      ]
     },
     "execution_count": 37,
     "metadata": {},
     "output_type": "execute_result"
    },
    {
     "data": {
      "image/png": "[encoded data removed]",
      "text/plain": [
       "<Figure size 432x288 with 1 Axes>"
      ]
     },
     "metadata": {},
     "output_type": "display_data"
    }
   ],
   "source": [
    "plt.plot(tresh, scores_mouth)"
   ]
  },
  {
   "cell_type": "code",
   "execution_count": null,
   "metadata": {},
   "outputs": [],
   "source": []
  }
 ],
 "metadata": {
  "kernelspec": {
   "display_name": "Python 3",
   "language": "python",
   "name": "python3"
  },
  "language_info": {
   "codemirror_mode": {
    "name": "ipython",
    "version": 3
   },
   "file_extension": ".py",
   "mimetype": "text/x-python",
   "name": "python",
   "nbconvert_exporter": "python",
   "pygments_lexer": "ipython3",
   "version": "3.5.2"
  }
 },
 "nbformat": 4,
 "nbformat_minor": 1
}
